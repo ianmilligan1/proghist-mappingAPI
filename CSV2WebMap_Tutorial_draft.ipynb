{
 "metadata": {
  "celltoolbar": "Raw Cell Format",
  "name": "",
  "signature": "sha256:81b7c7275e2b5df7fc11705b4580666b86db1567964813b5692a718892f0a22d"
 },
 "nbformat": 3,
 "nbformat_minor": 0,
 "worksheets": [
  {
   "cells": [
    {
     "cell_type": "markdown",
     "metadata": {},
     "source": [
      "# CSV to Web Map...Easy Right?\n",
      "\n",
      "### Getting Started\n",
      "Setup a working environment - create a directory to work from\n",
      "Download scripts from github\n",
      "\n",
      "We're going to take a plain csv file and plug it into a web map! \n",
      "The original csv is here: https://github.com/Robinlovelace/Creating-maps-in-R/blob/master/data/census-historic-population-borough.csv\n",
      "\n",
      "### Download the csv\n",
      "To download it quickly you can do it here:\n",
      "https://docs.google.com/spreadsheets/d/1GN0DuxNn7xpkGNnFDWP4-5mdYs1XJqoSt1G2fDwu1SA/edit#gid=1761435061\n",
      "\n",
      "census with country\n",
      "https://docs.google.com/spreadsheets/d/1Zune3eb8zH5KKGmWpGDqY9jP-DMxHAa4xIDUYzhBybo/edit#gid=1761435061\n",
      "\n",
      "### Geocode the placenames in the CSV\n",
      "\n",
      "Lets geocode the placenames on the CSV.  You can do this by using python.  Geopy is a python library that gives you access to the various geocoding APIs.  APIs include: geopy makes it easy for Python developers to locate the coordinates of addresses, cities, countries, and landmarks across the globe using third-party geocoders and other data sources.\n",
      "\n",
      "geopy includes geocoder classes for the OpenStreetMap Nominatim, ESRI ArcGIS, Google Geocoding API (V3), Baidu Maps, Bing Maps API, Yahoo! PlaceFinder, Yandex, IGN France, GeoNames, NaviData, OpenMapQuest, What3Words, OpenCage, SmartyStreets, geocoder.us, and GeocodeFarm geocoder services. The various geocoder classes are located in geopy.geocoders.\n",
      "\n",
      "Nominatim is OSM, open source and SLOW\n",
      "GoogleV3 is Google's API.  fast\n",
      "don't run it too many times because you get a timeout error\n",
      "\n",
      "https://github.com/geopy/geopy\n",
      "\n",
      "\n",
      "Pandas is a python data analysis library that can be used to manipulate csv and other files.  It share some functionality with R - using data frames, able to select, plot, index and analyse data.\n",
      "\n",
      "The following script was made in python using pandas and geopy"
     ]
    },
    {
     "cell_type": "code",
     "collapsed": false,
     "input": [
      "import os, csv, sys, geopy\n",
      "import pandas\n",
      "from geopy.geocoders import Nominatim, GoogleV3\n",
      "# geopy 1.10.0, pandas 0.16.2\n",
      "\n",
      "def main():\n",
      "\tio = pandas.read_csv('onerow3.csv', index_col=False, header=0, sep=\",\")\n",
      "\tname = io['Area_Name']\n",
      "\tgeolocator = Nominatim()\n",
      "\t# geolocator = GoogleV3()\n",
      "\t# io['city_coord'] = io['Area_Name'].apply(geolocator.geocode).apply(lambda x: (x.latitude, x.longitude))\n",
      "\tio['latitude'] = io['Area_Name'].apply(geolocator.geocode).apply(lambda x: (x.latitude))\n",
      "\tio['longitude'] = io['Area_Name'].apply(geolocator.geocode).apply(lambda x: (x.longitude))\n",
      "\tio.to_csv('geocoding-output.csv')\n",
      "\n",
      "if __name__ == '__main__':\n",
      "  main()"
     ],
     "language": "python",
     "metadata": {},
     "outputs": [],
     "prompt_number": 6
    },
    {
     "cell_type": "markdown",
     "metadata": {},
     "source": [
      "### Making GeoJSON\n",
      "\n",
      "Couple ways to make GeoJSON\n",
      "\n",
      "UI tool\n",
      "http://www.convertcsv.com/csv-to-geojson.htm\n",
      "\n",
      "or use ogr2ogr\n",
      "http://gis.stackexchange.com/questions/140219/what-are-some-ways-to-convert-a-csv-file-to-geojson-while-preserving-data-types\n",
      "\n",
      "install gdal http://www.kyngchaos.com/software/frameworks, which comes with ogr2ogr\n",
      "run this in the CLI"
     ]
    },
    {
     "cell_type": "code",
     "collapsed": false,
     "input": [
      "export PATH=/Library/Frameworks/GDAL.framework/Programs:$PATH"
     ],
     "language": "python",
     "metadata": {},
     "outputs": []
    },
    {
     "cell_type": "markdown",
     "metadata": {},
     "source": [
      "Create a VRT file.  For more documentation: http://www.gdal.org/drv_vrt.html.  Make sure your layername, filename, srcdatasource all have the same name.  Indicate all properties/attributes you want to have in your geojson"
     ]
    },
    {
     "cell_type": "code",
     "collapsed": false,
     "input": [
      "<OGRVRTDataSource>\n",
      "    <OGRVRTLayer name=\"geocoding-output\">\n",
      "        <SrcDataSource>geocoding-output.csv</SrcDataSource>\n",
      "        <GeometryType>wkbPoint</GeometryType>\n",
      "        <LayerSRS>WGS84</LayerSRS>\n",
      "        <GeometryField encoding=\"PointFromColumns\" x=\"longitude\" y=\"latitude\"/>\n",
      "        <Field name=\"ID\" src=\"ID\" type=\"String\"/>\n",
      "        <Field name=\"Area_Name\" src=\"Area_Name\" type=\"String\"/>\n",
      "        <Field name=\"Area_Code\" src=\"Area_Code\" type=\"String\"/>\n",
      "        <Field name=\"Pop_1801\" src=\"Pop_1801\" type=\"Integer\"/>\n",
      "\t\t<Field name=\"Pop_1811\" src=\"Pop_1811\" type=\"Integer\"/>\n",
      "\t\t<Field name=\"Pop_1821\" src=\"Pop_1821\" type=\"Integer\"/>\n",
      "\t\t<Field name=\"Pop_1831\" src=\"Pop_1831\" type=\"Integer\"/>\n",
      "\t\t<Field name=\"Pop_1841\" src=\"Pop_1841\" type=\"Integer\"/>\n",
      "\t\t<Field name=\"Pop_1851\" src=\"Pop_1851\" type=\"Integer\"/>\n",
      "\t\t<Field name=\"Pop_1861\" src=\"Pop_1861\" type=\"Integer\"/>\n",
      "\t\t<Field name=\"Pop_1871\" src=\"Pop_1871\" type=\"Integer\"/>\n",
      "\t\t<Field name=\"Pop_1881\" src=\"Pop_1881\" type=\"Integer\"/>\n",
      "\t\t<Field name=\"Pop_1891\" src=\"Pop_1891\" type=\"Integer\"/>\n",
      "\t\t<Field name=\"Pop_1901\" src=\"Pop_1901\" type=\"Integer\"/>\n",
      "\t\t<Field name=\"Pop_1911\" src=\"Pop_1911\" type=\"Integer\"/>\n",
      "\t\t<Field name=\"Pop_1921\" src=\"Pop_1921\" type=\"Integer\"/>\n",
      "\t\t<Field name=\"Pop_1931\" src=\"Pop_1931\" type=\"Integer\"/>\n",
      "\t\t<Field name=\"Pop_1939\" src=\"Pop_1939\" type=\"Integer\"/>\n",
      "\t\t<Field name=\"Pop_1951\" src=\"Pop_1951\" type=\"Integer\"/>\n",
      "\t\t<Field name=\"Pop_1961\" src=\"Pop_1961\" type=\"Integer\"/>\n",
      "\t\t<Field name=\"Pop_1971\" src=\"Pop_1971\" type=\"Integer\"/>\n",
      "\t\t<Field name=\"Pop_1981\" src=\"Pop_1981\" type=\"Integer\"/>\n",
      "\t\t<Field name=\"Pop_1991\" src=\"Pop_1991\" type=\"Integer\"/>\n",
      "\t\t<Field name=\"Pop_2001\" src=\"Pop_2001\" type=\"Integer\"/>\n",
      "    </OGRVRTLayer>\n",
      "</OGRVRTDataSource>\n"
     ],
     "language": "python",
     "metadata": {},
     "outputs": []
    },
    {
     "cell_type": "markdown",
     "metadata": {},
     "source": [
      "### Run the command to output your geojson"
     ]
    },
    {
     "cell_type": "code",
     "collapsed": false,
     "input": [
      "ogr2ogr -f GeoJSON output.geojson census_geocoded.vrt"
     ],
     "language": "python",
     "metadata": {},
     "outputs": []
    },
    {
     "cell_type": "markdown",
     "metadata": {},
     "source": [
      "Your geoJSON should look something like this:"
     ]
    },
    {
     "cell_type": "code",
     "collapsed": false,
     "input": [
      "{\n",
      "\"type\": \"FeatureCollection\",\n",
      "\"crs\": { \"type\": \"name\", \"properties\": { \"name\": \"urn:ogc:def:crs:OGC:1.3:CRS84\" } },\n",
      "                                                                                \n",
      "\"features\": [\n",
      "{ \"type\": \"Feature\", \"properties\": { \"ID\": \"1000\", \"Area_Name\": \"City of London\", \"Area_Code\": \"00AA\", \"Pop_1801\": 129000, \"Pop_1811\": 121000, \"Pop_1821\": 125000, \"Pop_1831\": 123000, \"Pop_1841\": 124000, \"Pop_1851\": 128000, \"Pop_1861\": 112000, \"Pop_1871\": 75000, \"Pop_1881\": 51000, \"Pop_1891\": 38000, \"Pop_1901\": 27000, \"Pop_1911\": 20000, \"Pop_1921\": 14000, \"Pop_1931\": 11000, \"Pop_1939\": 9000, \"Pop_1951\": 5000, \"Pop_1961\": 4767, \"Pop_1971\": 4000, \"Pop_1981\": 5864, \"Pop_1991\": 4230, \"Pop_2001\": 7181 }, \"geometry\": { \"type\": \"Point\", \"coordinates\": [ -0.1277583, 51.5073509 ] } },\n",
      "{ \"type\": \"Feature\", \"properties\": { \"ID\": \"1001\", \"Area_Name\": \"Barking and Dagenham\", \"Area_Code\": \"00AB\", \"Pop_1801\": 3000, \"Pop_1811\": 4000, \"Pop_1821\": 5000, \"Pop_1831\": 6000, \"Pop_1841\": 7000, \"Pop_1851\": 8000, \"Pop_1861\": 8000, \"Pop_1871\": 10000, \"Pop_1881\": 13000, \"Pop_1891\": 19000, \"Pop_1901\": 27000, \"Pop_1911\": 39000, \"Pop_1921\": 44000, \"Pop_1931\": 138000, \"Pop_1939\": 184000, \"Pop_1951\": 189000, \"Pop_1961\": 177092, \"Pop_1971\": 161000, \"Pop_1981\": 149786, \"Pop_1991\": 140728, \"Pop_2001\": 163944 }, \"geometry\": { \"type\": \"Point\", \"coordinates\": [ 0.1293497, 51.5464828 ] } },"
     ],
     "language": "python",
     "metadata": {},
     "outputs": []
    },
    {
     "cell_type": "markdown",
     "metadata": {},
     "source": [
      "definitely validate/test it out using http://geojson.io.  It's a useful tool!\n",
      "\n",
      "### You finally have GeoJSON.  Lets put it in a map!\n",
      "\n"
     ]
    },
    {
     "cell_type": "code",
     "collapsed": false,
     "input": [
      "<!DOCTYPE html>\n",
      "<html>\n",
      "  <head>\n",
      "    <title>Data Layer: Styling</title>\n",
      "    <meta name=\"viewport\" content=\"initial-scale=1.0\">\n",
      "    <meta charset=\"utf-8\">\n",
      "    <style>\n",
      "      html, body {\n",
      "        height: 100%;\n",
      "        margin: 0;\n",
      "        padding: 0;\n",
      "      }\n",
      "      #map {\n",
      "        height: 100%;\n",
      "      }\n",
      "    </style>\n",
      "  </head>\n",
      "  <body>\n",
      "    <div id=\"map\"></div>\n",
      "    <script>\n",
      "\n",
      "var map;\n",
      "function initMap() {\n",
      "  map = new google.maps.Map(document.getElementById('map'), {\n",
      "    zoom: 4,\n",
      "    center: {lat: -28, lng: 137}\n",
      "  });\n",
      "\n",
      "\n",
      "  map.data.loadGeoJson('output.json');\n",
      "\n",
      " \n",
      "}\n",
      "\n",
      "    </script>\n",
      "    <script async defer\n",
      "        src=\"https://maps.googleapis.com/maps/api/js?signed_in=true&callback=initMap\"></script>\n",
      "  </body>\n",
      "</html>"
     ],
     "language": "python",
     "metadata": {},
     "outputs": []
    },
    {
     "cell_type": "code",
     "collapsed": false,
     "input": [
      "python -m SimpleHTTPServer"
     ],
     "language": "python",
     "metadata": {},
     "outputs": []
    },
    {
     "cell_type": "markdown",
     "metadata": {},
     "source": [
      "have your geojson and html file in the same directory\n",
      "access at localhost:8000 open your html file and you'll see your map\n",
      "\n",
      "if you're diehard open source, use "
     ]
    },
    {
     "cell_type": "code",
     "collapsed": false,
     "input": [
      "<!DOCTYPE html>\n",
      "<head>\n",
      "<link rel=\"stylesheet\" href=\"http://cdn.leafletjs.com/leaflet-0.6.4/leaflet.css\" />\n",
      "<!--[if lte IE 8]>\n",
      "    <link rel=\"stylesheet\" href=\"http://cdn.leafletjs.com/leaflet-0.6.4/leaflet.ie.css\" />\n",
      "<![endif]-->\n",
      " \n",
      "<script src=\"http://cdn.leafletjs.com/leaflet-0.6.4/leaflet.js\"></script>\n",
      "<script src=\"output-weirdness2.js\" type=\"text/javascript\"></script>\n",
      "<style>\n",
      "#map {\n",
      "\twidth:960px;\n",
      "\theight:500px;\n",
      "}\n",
      "</style>\n",
      "</head>\n",
      " \n",
      "<body>\n",
      "\t<div id=\"map\"></div>\n",
      "<script>\n",
      "window.onload = function () {\n",
      " \tvar map = L.map('map').setView([0.0,-10.0], 2);\n",
      " \t\n",
      "\tL.tileLayer('http://{s}.tile.osm.org/{z}/{x}/{y}.png', {\n",
      "\t\tattribution: '&copy; <a href=\"http://osm.org/copyright\">OpenStreetMap</a> contributors'\n",
      "\t}).addTo(map);\n",
      "\n",
      "\tvar countryStyle = {\n",
      "\t\t'color': \"#000\",\n",
      "\t\t'weight': 2,\n",
      "\t\t'opacity': 0.6\n",
      "\t};\n",
      "\t\n",
      "\tfunction popup(feature, layer) {\n",
      "\t\tif (feature.properties && feature.properties.name) {\n",
      "\t\t\tlayer.bindPopup(feature.properties.name);\n",
      "\t\t}\n",
      "\t}\n",
      "\t\n",
      "\tL.geoJson(countries, {\n",
      "\t\tonEachFeature: popup,\n",
      "\t\tstyle: countryStyle\n",
      "\t}).addTo(map);\n",
      "};\n",
      "</script>\n",
      "</body>\n",
      "</html>\n"
     ],
     "language": "python",
     "metadata": {},
     "outputs": []
    },
    {
     "cell_type": "markdown",
     "metadata": {},
     "source": [
      "you'll need to manipulate the geojson and turn it into a js data file.  add a \"var countries = \" to the beginning of the file"
     ]
    },
    {
     "cell_type": "code",
     "collapsed": false,
     "input": [
      "var countries = {\n",
      "\"type\": \"FeatureCollection\",\n",
      "\"crs\": { \"type\": \"name\", \"properties\": { \"name\": \"urn:ogc:def:crs:OGC:1.3:CRS84\" } },\n",
      "                                                                                \n",
      "\"features\": [\n",
      "{ \"type\": \"Feature\", \"properties\": { \"ID\": \"1000\", \"Area_Name\": \"City of London\", \"Area_Code\": \"00AA\", \"Pop_1801\": 129000, \"Pop_1811\": 121000, \"Pop_1821\": 125000, \"Pop_1831\": 123000, \"Pop_1841\": 124000, \"Pop_1851\": 128000, \"Pop_1861\": 112000, \"Pop_1871\": 75000, \"Pop_1881\": 51000, \"Pop_1891\": 38000, \"Pop_1901\": 27000, \"Pop_1911\": 20000, \"Pop_1921\": 14000, \"Pop_1931\": 11000, \"Pop_1939\": 9000, \"Pop_1951\": 5000, \"Pop_1961\": 4767, \"Pop_1971\": 4000, \"Pop_1981\": 5864, \"Pop_1991\": 4230, \"Pop_2001\": 7181 }, \"geometry\": { \"type\": \"Point\", \"coordinates\": [ -0.1277583, 51.5073509 ] } },\n",
      "{ \"type\": \"Feature\", \"properties\": { \"ID\": \"1001\", \"Area_Name\": \"Barking and Dagenham\", \"Area_Code\": \"00AB\", \"Pop_1801\": 3000, \"Pop_1811\": 4000, \"Pop_1821\": 5000, \"Pop_1831\": 6000, \"Pop_1841\": 7000, \"Pop_1851\": 8000, \"Pop_1861\": 8000, \"Pop_1871\": 10000, \"Pop_1881\": 13000, \"Pop_1891\": 19000, \"Pop_1901\": 27000, \"Pop_1911\": 39000, \"Pop_1921\": 44000, \"Pop_1931\": 138000, \"Pop_1939\": 184000, \"Pop_1951\": 189000, \"Pop_1961\": 177092, \"Pop_1971\": 161000, \"Pop_1981\": 149786, \"Pop_1991\": 140728, \"Pop_2001\": 163944 }, \"geometry\": { \"type\": \"Point\", \"coordinates\": [ 0.1293497, 51.5464828 ] } },\n"
     ],
     "language": "python",
     "metadata": {},
     "outputs": []
    },
    {
     "cell_type": "markdown",
     "metadata": {},
     "source": [
      "Mapbox, Cartodb, so many other plugins you can use with leaflet\n",
      "\n",
      "popup of info for points\n",
      "\n",
      "time based data\n",
      "\n",
      "county boundaries\n",
      "\n",
      "###OK What did I just make?\n",
      "* tiles\n",
      "* vector/raster\n",
      "* layers\n",
      "* source\n",
      "* coordinates\n",
      "* map states\n",
      "* plugins\n",
      "* mashups - stamen, mapbox, cartodb\n",
      "* controls\n",
      "* events\n",
      "http://leafletjs.com/reference.html\n"
     ]
    },
    {
     "cell_type": "markdown",
     "metadata": {},
     "source": []
    },
    {
     "cell_type": "code",
     "collapsed": false,
     "input": [],
     "language": "python",
     "metadata": {},
     "outputs": []
    },
    {
     "cell_type": "code",
     "collapsed": false,
     "input": [],
     "language": "python",
     "metadata": {},
     "outputs": []
    }
   ],
   "metadata": {}
  }
 ]
}